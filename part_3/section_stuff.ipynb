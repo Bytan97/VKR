{
 "cells": [
  {
   "cell_type": "code",
   "execution_count": 1,
   "metadata": {
    "ExecuteTime": {
     "end_time": "2019-06-02T09:13:20.397336Z",
     "start_time": "2019-06-02T09:13:19.332002Z"
    }
   },
   "outputs": [],
   "source": [
    "import numpy as np\n",
    "from pyquery import PyQuery as pq\n",
    "from matplotlib import pylab as plt\n",
    "\n",
    "%matplotlib inline\n",
    "%config InlineBackend.figure_format = \"svg\"\n",
    "%config InlineBackend.close_figures = True"
   ]
  },
  {
   "cell_type": "code",
   "execution_count": 2,
   "metadata": {
    "ExecuteTime": {
     "end_time": "2019-06-02T09:13:20.557385Z",
     "start_time": "2019-06-02T09:13:20.402240Z"
    }
   },
   "outputs": [
    {
     "name": "stdout",
     "output_type": "stream",
     "text": [
      "(13514,) (13514,)\n",
      "(13514,)\n"
     ]
    }
   ],
   "source": [
    "with open(\"data_txt/section1end.txt\", 'r') as data_x_txt:\n",
    "    data = data_x_txt.read()\n",
    "    data = data.split()\n",
    "    detrend_phi = np.array(data[1::2]).astype(np.float32)\n",
    "    filtred_date = np.array(data[0::2]).astype(np.float32)\n",
    "    print(filtred_date.shape, detrend_phi.shape)\n",
    "with open(\"data_txt/section1end_nofil.txt\", 'r') as data_x_txt:\n",
    "    data = data_x_txt.read()\n",
    "    data = data.split()\n",
    "    phi = np.array(data[1::2]).astype(np.float32)\n",
    "    print(phi.shape)"
   ]
  },
  {
   "cell_type": "code",
   "execution_count": 3,
   "metadata": {
    "ExecuteTime": {
     "end_time": "2019-06-02T09:13:21.039095Z",
     "start_time": "2019-06-02T09:13:21.029508Z"
    }
   },
   "outputs": [],
   "source": [
    "max_peak = np.max(detrend_phi)\n",
    "max_peak_i = np.where(detrend_phi == max_peak)[0][0]\n",
    "max_peak_date = filtred_date[max_peak_i]"
   ]
  },
  {
   "cell_type": "code",
   "execution_count": 4,
   "metadata": {
    "ExecuteTime": {
     "end_time": "2019-06-02T09:13:21.401517Z",
     "start_time": "2019-06-02T09:13:21.394566Z"
    }
   },
   "outputs": [],
   "source": [
    "model_date = filtred_date[:max_peak_i]\n",
    "model_phi = phi[:max_peak_i]"
   ]
  },
  {
   "cell_type": "code",
   "execution_count": 5,
   "metadata": {
    "ExecuteTime": {
     "end_time": "2019-06-02T09:13:21.867269Z",
     "start_time": "2019-06-02T09:13:21.843820Z"
    }
   },
   "outputs": [
    {
     "name": "stdout",
     "output_type": "stream",
     "text": [
      "a = -5.234587049937571, b = 10353.679664412059\n"
     ]
    }
   ],
   "source": [
    "model_A = np.vstack([model_date, np.ones(len(model_date))]).T\n",
    "model_a, model_b = np.linalg.lstsq(model_A, model_phi, rcond=None)[0]\n",
    "print(\"a = {}, b = {}\".format(model_a, model_b))\n",
    "model_trend = model_a * model_date + model_b"
   ]
  },
  {
   "cell_type": "code",
   "execution_count": 6,
   "metadata": {
    "ExecuteTime": {
     "end_time": "2019-05-09T14:07:50.172836Z",
     "start_time": "2019-05-09T14:07:50.166853Z"
    }
   },
   "outputs": [],
   "source": [
    "detrend_model_phi = model_phi - model_trend"
   ]
  },
  {
   "cell_type": "code",
   "execution_count": 7,
   "metadata": {
    "ExecuteTime": {
     "end_time": "2019-05-09T14:07:56.238792Z",
     "start_time": "2019-05-09T14:07:56.099163Z"
    }
   },
   "outputs": [],
   "source": [
    "with open(\"data_txt/model_phi_1.txt\", 'w') as datatxt:\n",
    "    for i in range(len(model_date)) :\n",
    "        print(model_date[i], '\\t', detrend_model_phi[i], file=datatxt)"
   ]
  },
  {
   "cell_type": "code",
   "execution_count": 8,
   "metadata": {
    "ExecuteTime": {
     "end_time": "2019-05-09T14:08:00.028984Z",
     "start_time": "2019-05-09T14:07:59.993079Z"
    }
   },
   "outputs": [
    {
     "name": "stdout",
     "output_type": "stream",
     "text": [
      "(10477,) (10477,)\n"
     ]
    }
   ],
   "source": [
    "with open(\"data_txt/fmphi.txt\", 'r') as data_txt:\n",
    "    data = data_txt.read()\n",
    "    data = data.split()\n",
    "    filtred_model_phi = np.array(data[1::2]).astype(np.float32)\n",
    "    print(filtred_model_phi.shape, model_date.shape)"
   ]
  },
  {
   "cell_type": "code",
   "execution_count": 9,
   "metadata": {
    "ExecuteTime": {
     "end_time": "2019-05-09T14:08:05.244667Z",
     "start_time": "2019-05-09T14:08:05.240678Z"
    }
   },
   "outputs": [],
   "source": [
    "model_noise = detrend_model_phi - filtred_model_phi"
   ]
  },
  {
   "cell_type": "code",
   "execution_count": 10,
   "metadata": {
    "ExecuteTime": {
     "end_time": "2019-05-09T14:08:17.996390Z",
     "start_time": "2019-05-09T14:08:17.988409Z"
    }
   },
   "outputs": [
    {
     "data": {
      "text/plain": [
       "0.15000000000000002"
      ]
     },
     "execution_count": 10,
     "metadata": {},
     "output_type": "execute_result"
    }
   ],
   "source": [
    "N = 0.85\n",
    "bayes = 1 - N\n",
    "bayes"
   ]
  },
  {
   "cell_type": "code",
   "execution_count": 11,
   "metadata": {
    "ExecuteTime": {
     "end_time": "2019-05-09T14:08:30.150212Z",
     "start_time": "2019-05-09T14:08:30.136249Z"
    }
   },
   "outputs": [],
   "source": [
    "def newmodel(repoint, old_date, old_phi, df1=0, df2=0, inte=0, lel=0):\n",
    "    new_date1 = old_date[:repoint]\n",
    "    new_date2 = old_date[repoint:]\n",
    "    tmp_ = new_date2.size\n",
    "    new_phi1 = old_phi[:repoint]\n",
    "    if lel:\n",
    "        tmp_ = lel\n",
    "\n",
    "    new_phi2 = -1 *old_phi[repoint:] - (1 - N) * (old_date[:tmp_] -  new_date1[0]) * np.pi * 2\n",
    "    new_phi2 += (new_phi1[-1] - new_phi2[0])\n",
    "\n",
    "    if df1:\n",
    "        plt.figure(figsize=(11.5, 15.5))\n",
    "        plt.subplot(3,1,1)\n",
    "        plt.grid(True)\n",
    "        plt.ylabel(\"$\\phi(t)$\", fontsize=16)\n",
    "        plt.xlabel(\"$t$\")\n",
    "        plt.xlim(old_date[0], old_date[-1])\n",
    "        plt.plot(new_date1, new_phi1, color=\"black\", label=\"Данные даблюдений\")\n",
    "        plt.plot(new_date2, new_phi2, color=\"red\", label=\"Преобразованные данные\")\n",
    "        plt.legend()\n",
    "        if df2:\n",
    "            plt.subplot(3,1,2)\n",
    "            plt.grid(True)\n",
    "            plt.ylabel(\"$\\phi(t)$\", fontsize=16)\n",
    "            plt.xlabel(\"$t$\")\n",
    "            plt.xlim(old_date[0], old_date[-1])\n",
    "            plt.plot(old_date, old_phi, color=\"silver\", label=\"$\\phi(t)$\")\n",
    "            plt.plot(old_date[inte[0]: inte[1]], old_phi[inte[0]: inte[1]], color=\"lightpink\", label=\"Интервал допустимых точек\")\n",
    "            plt.plot(old_date[repoint], old_phi[repoint],\"o\", c=\"blue\", label=\"Выбранная точка для преобразования\")\n",
    "            plt.legend()\n",
    "\n",
    "    \n",
    "    return np.concatenate([new_date1, new_date2]), np.concatenate([new_phi1, new_phi2])"
   ]
  },
  {
   "cell_type": "code",
   "execution_count": 12,
   "metadata": {
    "ExecuteTime": {
     "end_time": "2019-05-09T14:08:40.447036Z",
     "start_time": "2019-05-09T14:08:40.430569Z"
    }
   },
   "outputs": [],
   "source": [
    "def find_max_delta(repoint, t, phi, length, h):\n",
    "    new_t = t[:repoint]\n",
    "    new_p = phi[:repoint]\n",
    "    n = (new_t.size - length) // h\n",
    "    a = []\n",
    "    b = []\n",
    "    res = []\n",
    "    delta = []\n",
    "    T = []\n",
    "    PHI = []\n",
    "    \n",
    "    for i in range(n):\n",
    "        t_ = np.array(new_t[i * h : length + i * h])\n",
    "        T.append(t_)\n",
    "        phi_ = np.array(new_p[i * h : length + i * h])\n",
    "        PHI.append(phi_)\n",
    "\n",
    "        A_ = np.vstack([T[i], np.ones(len(T[i]))]).T\n",
    "        a_, b_ = np.linalg.lstsq(A_, PHI[i], rcond=None)[0]\n",
    "\n",
    "        a.append(a_)\n",
    "        b.append(b_)\n",
    "\n",
    "        res_ = a_ * T[i] + b_\n",
    "\n",
    "        res.append(res_)\n",
    "        delta.append(a_)\n",
    "        \n",
    "    return np.min(delta)"
   ]
  },
  {
   "cell_type": "code",
   "execution_count": 6,
   "metadata": {
    "ExecuteTime": {
     "end_time": "2019-05-23T10:26:22.584771Z",
     "start_time": "2019-05-23T10:26:22.537894Z"
    }
   },
   "outputs": [],
   "source": [
    "def find_ppoint(repoint, t, phi, length, h, delta, df1=0, df2=0, old_date=None, old_phi=None,  inte = 0, df3=0):\n",
    "    t_ex_ch = t[repoint]\n",
    "    a = []\n",
    "    b = []\n",
    "    res = []\n",
    "    \n",
    "    n = (t.size - length) // h\n",
    "    mmin = 5\n",
    "    T = []\n",
    "    PHI = []\n",
    "    \n",
    "    for i in range(n):\n",
    "        t_ = np.array(t[i * h : length + i * h])\n",
    "        T.append(t_)\n",
    "        phi_ = np.array(phi[i * h : length + i * h])\n",
    "        PHI.append(phi_)\n",
    "\n",
    "        A_ = np.vstack([T[i], np.ones(len(T[i]))]).T\n",
    "        a_, b_ = np.linalg.lstsq(A_, PHI[i], rcond=None)[0]\n",
    "\n",
    "        a.append(a_)\n",
    "        b.append(b_)\n",
    "\n",
    "        res_ = a_ * T[i] + b_\n",
    "\n",
    "        res.append(res_)\n",
    "        if a[i] < -1 * np.abs(delta):\n",
    "            t_ch = t[length + i * h] \n",
    "            ind_ch = length + i * h\n",
    "            mmin = t_ch - t_ex_ch\n",
    "            mmin_i = i\n",
    "            \n",
    "            break\n",
    "          \n",
    "    print(\"Точка перехода известная: %.4f\"%t_ex_ch)\n",
    "    print(\"Точка перехода alg: %.4f\"%t[length + mmin_i * h])\n",
    "    print(\"отклонение от точки перехода {}\".format(mmin))\n",
    "    print(\"a = {}\".format(a[i]))\n",
    "    print(\"\\n\")\n",
    "    \n",
    "    if df1:\n",
    "        plt.figure(figsize=(11.5, 15.5))\n",
    "        plt.subplot(3,1,1)\n",
    "        plt.grid(True)\n",
    "        plt.ylabel(\"$\\phi(t)_{Модель}$\")\n",
    "        plt.xlabel(\"$t$\")\n",
    "        plt.xlim(t[0], t[-1])\n",
    "        plt.plot(t, phi, label=\"$\\phi(t)$\", c=\"silver\")\n",
    "        plt.plot(t[repoint], phi[repoint],\"o\", c=\"r\", label=\"Смена частотного режима(Фактическая)\")\n",
    "        plt.plot(t[length + mmin_i * h], phi[length + mmin_i * h],\"o\", c=\"lime\", label=\"Смена частотного режима(Алгоритм)\")\n",
    "        plt.legend()\n",
    "\n",
    "        if df2:\n",
    "            plt.subplot(3,1,2)\n",
    "            plt.grid(True)\n",
    "            plt.ylabel(\"$\\phi(t)_{real}$\")\n",
    "            plt.xlabel(\"$t$\")\n",
    "            plt.xlim(old_date[0], old_date[-1])\n",
    "            plt.plot(old_date, old_phi, label=\"$\\phi(t)$\", c=\"silver\")\n",
    "            plt.plot(old_date[inte[0]: inte[1]], old_phi[inte[0]: inte[1]], c=\"lightpink\", label=\"Допустимый интревал определения смены частотного режима\")\n",
    "            plt.plot(old_date[repoint], old_phi[repoint], \"o\", c=\"r\", label=\"Смена частотного режима(Фактическая)\")\n",
    "            plt.plot(old_date[length + mmin_i * h], old_phi[length + mmin_i * h], \"o\", c=\"lime\", label=\"Смена частотного режима(Алгоритм)\")\n",
    "            plt.legend()\n",
    "    if df3:\n",
    "        plt.figure(figsize=(11.5, 15.5))\n",
    "        plt.subplot(3,1,2)\n",
    "        plt.grid(True)\n",
    "        plt.ylabel(\"$\\phi(t)$\")\n",
    "        plt.xlabel(\"$t$\")\n",
    "        plt.xlim(old_date[0], old_date[-1])\n",
    "        plt.plot(old_date, old_phi, color=\"black\", label=\"$\\phi(t)$\")\n",
    "        plt.plot(old_date[inte[0]: inte[1]], old_phi[inte[0]: inte[1]], c=\"lightpink\", label=\"Допустимый интревал определения смены частотного режима\")\n",
    "        plt.plot(old_date[repoint], old_phi[repoint], \"o\", c=\"r\", label=\"Смена частотного режима(Фактическая)\")\n",
    "        plt.plot(old_date[length + mmin_i * h], old_phi[length + mmin_i * h], \"o\", c=\"lime\", label=\"Смена частотного режима(Алгоритм)\")\n",
    "        plt.legend()\n",
    "    \n",
    "    return t[length + mmin_i * h] - t_ex_ch, t[inte[1]] - t[length + mmin_i * h], t_ex_ch"
   ]
  },
  {
   "cell_type": "code",
   "execution_count": null,
   "metadata": {},
   "outputs": [],
   "source": []
  }
 ],
 "metadata": {
  "kernelspec": {
   "display_name": "Python 3",
   "language": "python",
   "name": "python3"
  },
  "language_info": {
   "codemirror_mode": {
    "name": "ipython",
    "version": 3
   },
   "file_extension": ".py",
   "mimetype": "text/x-python",
   "name": "python",
   "nbconvert_exporter": "python",
   "pygments_lexer": "ipython3",
   "version": "3.7.2"
  },
  "latex_envs": {
   "LaTeX_envs_menu_present": true,
   "autoclose": true,
   "autocomplete": true,
   "bibliofile": "biblio.bib",
   "cite_by": "apalike",
   "current_citInitial": 1,
   "eqLabelWithNumbers": true,
   "eqNumInitial": 1,
   "hotkeys": {
    "equation": "Ctrl-E",
    "itemize": "Ctrl-I"
   },
   "labels_anchors": false,
   "latex_user_defs": false,
   "report_style_numbering": false,
   "user_envs_cfg": false
  }
 },
 "nbformat": 4,
 "nbformat_minor": 2
}
